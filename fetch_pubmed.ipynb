{
 "cells": [
  {
   "cell_type": "code",
   "execution_count": 1,
   "id": "83660a93",
   "metadata": {},
   "outputs": [],
   "source": [
    "import os\n",
    "from pymed import PubMed\n",
    "import e_health"
   ]
  },
  {
   "cell_type": "markdown",
   "id": "94d6f3e5",
   "metadata": {},
   "source": [
    "# Connect to the database"
   ]
  },
  {
   "cell_type": "code",
   "execution_count": 2,
   "id": "16f066d8",
   "metadata": {},
   "outputs": [
    {
     "name": "stdout",
     "output_type": "stream",
     "text": [
      "Connecting to data/db\n"
     ]
    }
   ],
   "source": [
    "db_path = \"data/db\"\n",
    "db = e_health.db.DBManager(db_path)\n",
    "print(\"Connecting to\", db_path)"
   ]
  },
  {
   "cell_type": "code",
   "execution_count": 3,
   "id": "e0127885",
   "metadata": {},
   "outputs": [
    {
     "name": "stdout",
     "output_type": "stream",
     "text": [
      "cleared existing db\n"
     ]
    }
   ],
   "source": [
    "# Check if table and database exists\n",
    "if os.path.exists(db_path) and db.check_exists():\n",
    "    db.clear_table()\n",
    "    print(\"cleared existing db\")\n",
    "else:\n",
    "    db.create_table()"
   ]
  },
  {
   "cell_type": "markdown",
   "id": "826d983c",
   "metadata": {},
   "source": [
    "# Fetch articles"
   ]
  },
  {
   "cell_type": "code",
   "execution_count": 4,
   "id": "b8ac9210",
   "metadata": {},
   "outputs": [],
   "source": [
    "query = \"random\"\n",
    "max_results = 10\n",
    "pubmed = PubMed()\n",
    "results = pubmed.query(query, max_results=max_results)"
   ]
  },
  {
   "cell_type": "markdown",
   "id": "9673cf21",
   "metadata": {},
   "source": [
    "# Populate the database"
   ]
  },
  {
   "cell_type": "code",
   "execution_count": 5,
   "id": "954c8f7a",
   "metadata": {},
   "outputs": [
    {
     "name": "stdout",
     "output_type": "stream",
     "text": [
      "made article (title: Accelerated partner therapy contact tracing for people with chlamydia (LUSTRUM): a crossover cluster-randomised controlled trial., authors: Claudia S Estcourt, Oliver Stirrup, Andrew Copas, Nicola Low, Fiona Mapp, John Saunders, Catherine H Mercer, Paul Flowers, Tracy Roberts, Alison R Howarth, Melvina Woode Owusu, Merle Symonds, Rak Nandwani, Chidubem Ogwulu, Susannah Brice, Anne M Johnson, Christian L Althaus, Eleanor Williams, Alex Comer-Schwartz, Anna Tostevin, Jackie A Cassell, doi: 10.1016/S2468-2667(22)00204-3, pubmed_id: 36182235, abstract: Accelerated partner therapy has shown promise in improving contact tracing. We aimed to evaluate the effectiveness of accelerated partner therapy in addition to usual contact tracing compared with usual practice alone in heterosexual people with chlamydia, using a biological primary outcome measure.\n",
      "We did a crossover cluster-randomised controlled trial in 17 sexual health clinics (clusters) across England and Scotland. Participants were heterosexual people aged 16 years or older with a positive Chlamydia trachomatis test result, or a clinical diagnosis of conditions for which presumptive chlamydia treatment and contact tracing are initially provided, and their sexual partners. We allocated phase order for clinics through random permutation within strata. In the control phase, participants received usual care (health-care professional advised the index patient to tell their sexual partner[s] to attend clinic for sexually transmitted infection screening and treatment). In the intervention phase, participants received usual care plus an offer of accelerated partner therapy (health-care professional assessed sexual partner[s] by telephone, then sent or gave the index patient antibiotics and sexually transmitted infection self-sampling kits for their sexual partner[s]). Each phase lasted 6 months, with a 2-week washout at crossover. The primary outcome was the proportion of index patients with a positive C trachomatis test result at 12-24 weeks after contact tracing consultation. Secondary outcomes included proportions and types of sexual partners treated. Analysis was done by intention-to-treat, fitting random effects logistic regression models. This trial is registered with the ISRCTN registry, 15996256.\n",
      "Between Oct 24, 2018, and Nov 17, 2019, 1536 patients were enrolled in the intervention phase and 1724 were enrolled in the control phase. All clinics completed both phases. In total, 4807 sexual partners were reported, of whom 1636 (34%) were steady established partners. Overall, 293 (19%) of 1536 index patients chose accelerated partner therapy for a total of 305 partners, of whom 248 (81%) accepted. 666 (43%) of 1536 index patients in the intervention phase and 800 (46%) of 1724 in the control phase were tested for C trachomatis at 12-24 weeks after contact tracing consultation; 31 (4·7%) in the intervention phase and 53 (6·6%) in the control phase had a positive C trachomatis test result (adjusted odds ratio [OR] 0·66 [95% CI 0·41 to 1·04]; p=0·071; marginal absolute difference -2·2% [95% CI -4·7 to 0·3]). Among index patients with treatment status recorded, 775 (88·0%) of 881 patients in the intervention phase and 760 (84·6%) of 898 in the control phase had at least one treated sexual partner at 2-4 weeks after contact tracing consultation (adjusted OR 1·27 [95% CI 0·96 to 1·68]; p=0·10; marginal absolute difference 2·7% [95% CI -0·5 to 6·0]). No clinically significant harms were reported.\n",
      "Although the evidence that the intervention reduces repeat infection was not conclusive, the trial results suggest that accelerated partner therapy can be safely offered as a contact tracing option and is also likely to be cost saving. Future research should find ways to increase uptake of accelerated partner therapy and develop alternative interventions for one-off sexual partners.\n",
      "National Institute for Health Research., pub_date: 2022-10-02)\n",
      "made article (title: Molecular ecological networks reveal the spatial-temporal variation of microbial communities in drinking water distribution systems., authors: Zibo Jing, Zedong Lu, Zhinan Zhao, Wenfeng Cao, Weibo Wang, Yanchu Ke, Xiaohui Wang, Wenjun Sun, doi: 10.1016/j.jes.2021.10.017, pubmed_id: 36182128, abstract: Microbial activity and regrowth in drinking water distribution systems is a major concern for water service companies. However, previous studies have focused on the microbial composition and diversity of the drinking water distribution systems (DWDSs), with little discussion on microbial molecular ecological networks (MENs) in different water supply networks. MEN analysis explores the potential microbial interaction and the impact of environmental stress, to explain the characteristics of microbial community structures. In this study, the random matrix theory-based network analysis was employed to investigate the impact of seasonal variation including water source switching on the networks of three DWDSs that used different disinfection methods. The results showed that microbial interaction varied slightly with the seasons but was significantly influenced by different DWDSs. Proteobacteria, identified as key species, play an important role in the network. Combined UV-chlorine disinfection can effectively reduce the size and complexity of the network compared to chlorine disinfection alone, ignoring seasonal variations, which may affect microbial activity or control microbial regrowth in DWDSs. This study provides new insights for analyzing the dynamics of microbial interactions in DWDSs., pub_date: 2022-10-02)\n",
      "made article (title: A practice audit of short-term outcomes of Wallstent versus Venovo stents for the treatment of non-thrombotic iliac vein outflow stenoses., authors: Levan Sulakvelidze, Gaurav Lakhanpal, Sanjiv Lakhanpal, Richard Kennedy, Rohan Lakhanpal, Peter J Pappas, doi: 10.1016/j.jvsv.2022.08.007, pubmed_id: 36182087, abstract: The Wallstent (WS) is currently the standard of care for comparisons of clinical efficacy for new stent devices in the treatment of iliac vein outflow disease. Many vein specific Nitinol based stents are now approved by the Food and Drug Administration for use in the iliofemoral venous system, however, few comparisons of these devices to the current standard exist. The purpose of this investigation was to compare the complication and reintervention rates between the WS and Venovo (VS) stents.\n",
      "A random sample of 100 WS and 100 VS cases performed from April 2018 through December 2020 were selected for retrospective analysis. Demographics, presenting symptoms and CEAP class were assessed. Complication logs and 90-day follow-up data were reviewed for every case to assess incidence of post-operative DVT, stent thrombosis, in-stent restenosis, bleeding and transient back pain.\n",
      "WS were more often placed in the left common iliac vein segment (CIV, n=52 vs 1) whereas VS stents were more often placed in the left CIV and external iliac vein (EIV) segments (n=36 vs 63) (p=0.0069). The average diameter and lengths of WS and VS in millimeters were 19.7±2.2 versus 15±1.4 (p=2.4*10\n",
      "Complication and reintervention rates between WS and VS are similar. Both stents demonstrated evidence of in-stent stenosis requiring reintervention. Implanted VS tended to be smaller in diameter, longer in length and covered the common and external iliac veins more often compared to WS. Therefore, one VS can be used to cover two territories, compared to the WS where two stents are required to cover the same vein territory length., pub_date: 2022-10-02)\n",
      "made article (title: The Effect of Stereotactic Body Radiation Therapy for Hepatocellular Cancer on Regional Hepatic Liver Function., authors: Lise Wei, Josiah Simeth, Madhava P Aryal, Martha Matuszak, Randall K Ten Haken, Kyle Cuneo, Theodore S Lawrence, Yue Cao, doi: 10.1016/j.ijrobp.2022.09.077, pubmed_id: 36181992, abstract: To investigate direct radiation dose-related and inflammation-mediated regional hepatic function losses after stereotactic body radiation therapy (SBRT) in patients with hepatocellular carcinoma (HCC) and poor liver function.\n",
      "24 patients with HCC enrolled on an IRB-approved adaptive SBRT trial had liver dynamic Gadoxetic-Acid enhanced MRI and blood sample collections pre- and one-month post-SBRT. Gadoxetic-Acid uptake rate (k1) maps were quantified for regional hepatic function and co-registered to both 2-Gy equivalent dose and physical dose distributions. Regional k1 loss patterns from pre- to post-SBRT were analyzed for effects of dose and patient using a mixed effects model and logistic function and associated with pre-therapy liver function Albumin-Bilirubin scores. Plasma levels of tumor necrosis factor alpha receptor 1 (TNFR1) (an inflammation marker) were correlated with mean k1 losses in the lowest dose regions by Spearman's rank correlation.\n",
      "The whole group had a k1 loss rate of 0.4%/Gy (EQD2); however, there was a significant random effect of patient in the mixed effect model (p<0.05). Patients with poor and good liver functions lost 50% of k1 values at 12.5 and 57.2 Gy, and 33% and 16% of k1 values at the lowest dose regions (< 5Gy), respectively. The k1 losses at the lowest dose regions of individual patients were significantly correlated with their TNFR1 levels post-SBRT (p<0.02).\n",
      "Our study suggests that regional hepatic function losses post-SBRT in patients with HCC include both direct radiation dose-dependent and inflammation mediated effects, which could impact how to manage these patients to preserve their liver function post-SBRT., pub_date: 2022-10-02)\n",
      "made article (title: Long-term exposure to ambient ozone and mortality in a population-based cohort of South Korea: Considering for an alternative exposure time metric., authors: Garam Byun, Yongsoo Choi, Sera Kim, Jong-Tae Lee, doi: 10.1016/j.envpol.2022.120300, pubmed_id: 36181930, abstract: Studies on the health effects of long-term ozone exposure remain limited with mixed results. One potential source of this inconsistency is the difference in exposure time metrics. This study aimed to investigate the association between long-term exposure to ambient ozone and mortality in South Korea, using different exposure metrics. We also examined whether heterogeneity between previous studies was due to the different exposure metrics. The study population comprised 179,806 participants from the National Health Insurance Service-National Sample Cohort (2002-2015) residing in seven major cities in South Korea. Several ozone exposure metrics (year-round 24-h, year-round 8-h, warm-season 24-h, and warm-season 8-h) were calculated. Time-varying Cox proportional hazards models were used to estimate the association between ozone and all-cause and cause-specific mortalities. Random-effect meta-analysis and meta-regression analysis were performed to pool the effect estimates of previous studies and examine whether the exposure metric can explain the between-study heterogeneity. The hazard ratios (HRs) per 10 ppb increment in year-round 24-h ozone for all-cause (HR, 1.18; 95% CI, 1.07-1.29) and circulatory (HR, 1.52; 95% CI, 1.25-1.84) mortality were higher than those of the other metrics. Year-round 8-h ozone exhibited the largest association with respiratory mortality (HR, 1.43; 95% CI, 1.04-1.96). A meta-analysis of 29 previous studies and the present study showed the largest HR for all-cause mortality from studies using year-round 8-h exposure (HR, 1.014; 95% CI, 0.994-1.033). The exposure metric was significantly associated with effect estimates in the multivariable meta-regression model. In conclusion, in the population-based cohort in South Korea, we found positive associations between several long-term ozone exposure metrics and mortality. The different ozone exposure metrics exhibited heterogeneous effect estimates. A year-round 24-h average ozone metric also could be considered an alternative long-term standard for ozone., pub_date: 2022-10-02)\n",
      "made article (title: Social support and posttraumatic growth: A meta-analysis., authors: Jing Ning, Xinfeng Tang, Hanlu Shi, Dongpeng Yao, Ziqing Zhao, Jie Li, doi: 10.1016/j.jad.2022.09.114, pubmed_id: 36181914, abstract: The beneficial role of social support on posttraumatic growth (PTG) has been assumed by theoretical models and established in some studies. However, there are inconsistent findings and little knowledge on moderators. The present study aims to investigate the overall effect size of the relationship and identify factors affecting the association.\n",
      "Six electronic databases were searched. Newcastle-Ottawa Quality Assessment Scale (NOS) were used to evaluate the quality of studies. Study quality, study design, trauma type, PTG measure, social support measure, continent, publishing language, sample size, gender, religion, and age were analyzed as moderators. Meta-regression was conducted with the significant differential predictors in moderator analysis.\n",
      "The meta-analysis included 217 samples and a total of 47,940 participants from both longitudinal and cross-sectional studies. There was a medium positive effect size between social support and PTG in random effect model, r = 0.418, p < .001. The meta-regression analysis indicated that the association between social support and PTG was stronger among caregivers (vs. other traumatized samples), Chinese, older individuals and studies with smaller sample size.\n",
      "Only survey results were included in the analysis. The retrospective self-report may limit a more objective assessment of the relations. In addition, 87 % of the studies were cross-sectional, which may influence the estimation of a valid effect size.\n",
      "Regarding the medium positive association between social support and PTG, it is important to enhance social support for trauma survivors. It will be especially effective for caregivers, Chinese, and older people., pub_date: 2022-10-02)\n",
      "made article (title: Understanding the hydrolysis mechanism on segments and aggregate structures: Corrosion-tailored poly (lactic acid) deriving copolymers with δ-valerolactone., authors: Wenjian Huang, Xin Wen, Jin Zhou, Xuzhen Zhang, doi: 10.1016/j.ijbiomac.2022.09.241, pubmed_id: 36181885, abstract: Poly (L-lactic acid) (PLLA) based copolymers modified with δ-valerolactone (DVL) through random copolymerization (PVLA-R) and block copolymerization (PVLA-B) with various DVL content were prepared to investigate their degradation regulation and mechanism. Chemical structure, thermal properties, hydrophilicity, crystallization as well as the crystal defects of the obtained copolymers were respectively confirmed. Degradation regulation of both PVLA-R and PVLA-B, such molecular weight and pH value changes of PLLA based copolymers were investigated via vitro degradation method. In order to further explore the degradation principle of the two copolymers, their degradation residues at different stages were systematically studied. The addition and increasing content of DVL disturbs the regularity of original PLLA molecular structure, resulting in accelerating degradation of copolymers. Compared with amorphous region, the crystalline region of both two copolymers has better corrosion resistance, which could be confirmed by increased melting point and crystallinity of both PVLA-R and PVLA-B degradation residues. PVLA-B copolymers show relatively superior degradation resistance mainly due to their higher molecular weight, crystallinity and hydrophobic index than PVLA-R copolymers., pub_date: 2022-10-02)\n",
      "made article (title: Resilient landscape pattern for reducing coastal flood susceptibility., authors: Ziyuan Luo, Jian Tian, Jian Zeng, Francesco Pilla, doi: 10.1016/j.scitotenv.2022.159087, pubmed_id: 36181828, abstract: Evaluating flood susceptibility, identifying flood-prone areas, and planning reasonable landscape patterns are important measures in promoting sustainable urban development and flood mitigation. To this end, this study evaluated the flood susceptibility using a neural network model depending on a flood inundation map created from satellite data from 2010 to 2020, and explanatory factors for flood inundation selected by Geodetector and regularized random forest. Subsequently, the landscape pattern of the coastal city was quantified based on the land cover, and key landscape pattern metrics for flood susceptibility were selected at patch and class levels using statistical approaches. Eventually, urban spatial planning strategies for flood management were proposed based on the ecological significance of key metrics. Taking Xiamen as a case study, the flood susceptibility map showed that flood-prone areas in Xiamen are mainly distributed along river banks and coastlines. Key landscape pattern metrics for flood susceptibility selected by statistical approaches showed that patch-level metrics account for more explanatory power than class-level metrics, and the classes of the landscape would affect the role of patch-level metrics. Overall, the division index of the forest, the connectance index of water, the number of core areas and the fractal dimension index of urban, and the Euclidean nearest-neighbor distance of urban and water are significantly positively related to flood susceptibility, while the core area and the proximity index of urban, the similarity index, the core area index, and the edge contrast index of the forest, and the contiguity index of forest, grass, farmland, and shrub negatively related with flood susceptibility. Based on these findings, intensive urban planning and integrative Nature-based Solutions networks should be considered as strategies for enhancing coastal flood resilience., pub_date: 2022-10-02)\n",
      "made article (title: Improving the accuracy of beef cattle methane inventories in Latin America and Caribbean countries., authors: Guilhermo F S Congio, André Bannink, Olga L Mayorga, João P P Rodrigues, Adeline Bougouin, Ermias Kebreab, Paulo C F Carvalho, Telma T Berchielli, Maria E Z Mercadante, Sebastião C Valadares-Filho, Ana L C C Borges, Alexandre Berndt, Paulo H M Rodrigues, Juan C Ku-Vera, Isabel C Molina-Botero, Jacobo Arango, Ricardo A Reis, Sandra L Posada-Ochoa, Thierry R Tomich, Octavio A Castelán-Ortega, Marcos I Marcondes, Carlos Gómez, Henrique M N Ribeiro-Filho, José I Gere, Claudia Ariza-Nieto, Luis A Giraldo, Horacio Gonda, María E Cerón-Cucchi, Olegario Hernández, Patricia Ricci, Alexander N Hristov, doi: 10.1016/j.scitotenv.2022.159128, pubmed_id: 36181820, abstract: On-farm methane (CH, pub_date: 2022-10-02)\n",
      "made article (title: Global prevalence and subtype distribution of Blastocystis sp. in rodents, birds, and water supplies: A systematic review and meta-analysis., authors: Mohammad Barati, Amir KarimiPourSaryazdi, Vahid Rahmanian, Saeed Bahadory, Amir Abdoli, Hassan Rezanezhad, Kavous Solhjoo, Ali Taghipour, doi: 10.1016/j.prevetmed.2022.105770, pubmed_id: 36181747, abstract: Animals such as rodents and birds may play a key role in the distribution of Blastocystis sp., either as introducers of the parasite into the water or as receptors of an infection already established in the water. Hence, we aimed to evaluate the prevalence and subtype distributions of Blastocystis sp. in rodents, birds, and water supplies at a global scale through a systematic review and meta-analysis approach. The standard protocol of preferred reporting items for systematic reviews and meta-analyses (PRISMA) statements were applied. Eligible prevalence studies on Blastocystis sp. in rodents, birds, and water supplies, published between 1 January 2000 and 20 January 2022 were collected using a systematic literature search in online databases (Scopus and Web of Science) and search engines (PubMed and Google Scholar). Inclusion and exclusion criteria were followed. The point estimates and 95% confidence intervals (CI) were calculated using a random-effects model. The variances between studies (heterogeneity) were computed by I, pub_date: 2022-10-02)\n"
     ]
    }
   ],
   "source": [
    "articles = []\n",
    "\n",
    "for result in results:\n",
    "    title = result.title\n",
    "    pid = result.pubmed_id\n",
    "    doi = result.doi\n",
    "    abstract = result.abstract\n",
    "    pub_date = result.publication_date \n",
    "    authors = result.authors\n",
    "    \n",
    "    \n",
    "    # print(\"got article with title\", title, \"pid\", pid, \"doi\", doi, \"abstract\", abstract, \"pub_date\", pub_date, \"authors\", authors)\n",
    "    article = e_health.article.Article(title = title, pubmed_id=pid, \n",
    "                                             doi = doi, abstract = abstract, \n",
    "                                             pub_date = pub_date, authors = authors )\n",
    "    print(\"made article\", article)\n",
    "    articles.append(article)\n",
    "\n",
    "db.insert_documents_and_commit(articles)"
   ]
  },
  {
   "cell_type": "code",
   "execution_count": 6,
   "id": "f59ee3d7",
   "metadata": {},
   "outputs": [
    {
     "name": "stdout",
     "output_type": "stream",
     "text": [
      "db contains 10 articles\n"
     ]
    }
   ],
   "source": [
    "print(\"db contains\", len(db.get_articles()), \"articles\")"
   ]
  },
  {
   "cell_type": "code",
   "execution_count": null,
   "id": "9ab2f084",
   "metadata": {},
   "outputs": [],
   "source": []
  },
  {
   "cell_type": "code",
   "execution_count": null,
   "id": "8217729c",
   "metadata": {},
   "outputs": [],
   "source": []
  }
 ],
 "metadata": {
  "kernelspec": {
   "display_name": "Python 3 (ipykernel)",
   "language": "python",
   "name": "python3"
  },
  "language_info": {
   "codemirror_mode": {
    "name": "ipython",
    "version": 3
   },
   "file_extension": ".py",
   "mimetype": "text/x-python",
   "name": "python",
   "nbconvert_exporter": "python",
   "pygments_lexer": "ipython3",
   "version": "3.10.7"
  }
 },
 "nbformat": 4,
 "nbformat_minor": 5
}
